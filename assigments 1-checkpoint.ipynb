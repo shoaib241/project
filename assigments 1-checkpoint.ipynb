{
 "cells": [
  {
   "cell_type": "code",
   "execution_count": 13,
   "metadata": {},
   "outputs": [
    {
     "name": "stdout",
     "output_type": "stream",
     "text": [
      "enter marks of engish out of 10080\n",
      "enter marks of urdu out of 10080\n",
      "enter marks of islamiat out of 10080\n",
      "enter marks of physics out of 10080\n",
      "enter marks of chemistry out of 10080\n",
      "enter marks of math out of 10080\n",
      "total marks is 600\n",
      "obtained marks is  480\n",
      "your percentage is  80.0 %\n",
      "grade is A+\n"
     ]
    }
   ],
   "source": [
    "\"marks sheet assigment\"\n",
    "english=int(input(\"enter marks of engish out of 100:\"))\n",
    "urdu=int(input(\"enter marks of urdu out of 100\":))\n",
    "islamiat=int(input(\"enter marks of islamiat out of 100:\"))\n",
    "physics=int(input(\"enter marks of physics out of 100:\"))\n",
    "chemistry=int(input(\"enter marks of chemistry out of 100:\"))\n",
    "math=int(input(\"enter marks of math out of 100:\"))\n",
    "total_marks=600\n",
    "marks_obt=english+urdu+islamiat+physics+chemistry+math\n",
    "print(\"total marks is\",total_marks)\n",
    "print(\"obtained marks is \",marks_obt)\n",
    "per=marks_obt/total_marks*100\n",
    "print (\"your percentage is \",per,\"%\")\n",
    "if(per>=80):\n",
    "\n",
    "    print(\"grade is A+\")\n",
    "elif(per>=70):\n",
    "    print=(\"grade is A\")\n",
    "elif(per>=60):\n",
    "    print=(\"grade is B\")\n",
    "elif(per>=50):\n",
    "    print=(\"grade is c\")\n",
    "elif(per>=40):\n",
    "    print=(\"grade is D\")\n",
    "\n",
    "\n",
    "\n",
    "            \n",
    "else:\n",
    "    print (\"failed\")\n"
   ]
  },
  {
   "cell_type": "code",
   "execution_count": null,
   "metadata": {},
   "outputs": [],
   "source": []
  }
 ],
 "metadata": {
  "kernelspec": {
   "display_name": "Python 3",
   "language": "python",
   "name": "python3"
  },
  "language_info": {
   "codemirror_mode": {
    "name": "ipython",
    "version": 3
   },
   "file_extension": ".py",
   "mimetype": "text/x-python",
   "name": "python",
   "nbconvert_exporter": "python",
   "pygments_lexer": "ipython3",
   "version": "3.7.3"
  }
 },
 "nbformat": 4,
 "nbformat_minor": 2
}
