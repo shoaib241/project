{
 "cells": [
  {
   "cell_type": "code",
   "execution_count": null,
   "metadata": {},
   "outputs": [],
   "source": [
    "\"\"\"Calculate Area ofa Circle\"\"\" \n",
    "\n",
    "radius=input(\"please enter radius\")\n",
    "r=float(radius)\n",
    "area_of_circle=r*r*3.142\n",
    "print(area_of_circle)\n",
    "\n",
    "\n"
   ]
  },
  {
   "cell_type": "code",
   "execution_count": 1,
   "metadata": {},
   "outputs": [
    {
     "name": "stdout",
     "output_type": "stream",
     "text": [
      "Enter a number: 2\n",
      "Positive number\n"
     ]
    }
   ],
   "source": [
    "\"Check Number either positive, negative or zero\"\n",
    "num = float(input(\"Enter a number: \"))\n",
    "if num > 0:\n",
    "   print(\"Positive number\")\n",
    "elif num == 0:\n",
    "   print(\"Zero\")\n",
    "else:\n",
    "   print(\"Negative number\")\n"
   ]
  },
  {
   "cell_type": "code",
   "execution_count": 12,
   "metadata": {},
   "outputs": [
    {
     "name": "stdout",
     "output_type": "stream",
     "text": [
      "enter first number4\n",
      "enter first number2\n",
      "number4.0is divisible by2.0\n"
     ]
    }
   ],
   "source": [
    "\"\"\"Write a Python program to check whether a number is completely divisible by another number. Accept two integer\n",
    "    values form the user\"\"\"\n",
    "num1=float(input(\"enter first number\"))\n",
    "num2=float(input(\"enter first number\"))\n",
    "if(num1/num2!=0):\n",
    "    print(\"number\"+str(num1)+\"is divisible by\"+str(num2))\n",
    "else:\n",
    "print(\"number\"+str(num1)+\"is not divisible by\"+str(num2))"
   ]
  },
  {
   "cell_type": "code",
   "execution_count": 19,
   "metadata": {},
   "outputs": [
    {
     "name": "stdout",
     "output_type": "stream",
     "text": [
      "<function ObtainDate at 0x000000213D9BF8C8>\n"
     ]
    }
   ],
   "source": [
    "from datetime import date\n",
    "def ObtainDate():\n",
    "   input = input(\"Type Date dd/mm/year: \")\n",
    "print(ObtainDate)"
   ]
  },
  {
   "cell_type": "code",
   "execution_count": 24,
   "metadata": {},
   "outputs": [
    {
     "name": "stdout",
     "output_type": "stream",
     "text": [
      "enter radius1\n",
      "voulme of sphere of given radius 1.0is 4.189333333333333\n"
     ]
    }
   ],
   "source": [
    "\"\"\"Write a Python program to get the volume of a sphere, please take the radius as input from user\"\"\"\n",
    "r=float(input(\"enter radius\"))\n",
    "volume=4/3*3.142*r*r\n",
    "print(\"voulme of sphere of given radius \"+str(r)+\" is \"+str(volume))"
   ]
  },
  {
   "cell_type": "code",
   "execution_count": 35,
   "metadata": {},
   "outputs": [
    {
     "name": "stdout",
     "output_type": "stream",
     "text": [
      "enter characters\n",
      "how many times you print5\n",
      "s\n",
      "s\n",
      "s\n",
      "s\n",
      "s\n"
     ]
    }
   ],
   "source": [
    "\"Write a Python program to get a string which is n (non-negative integer) copies of a given string. \"\n",
    "r=input(\"enter character\")\n",
    "r2=int(input(\"how many times you print\"))\n",
    "for i in range(r2):\n",
    "      print(r)\n"
   ]
  },
  {
   "cell_type": "code",
   "execution_count": 42,
   "metadata": {},
   "outputs": [
    {
     "name": "stdout",
     "output_type": "stream",
     "text": [
      "Enter a number: 4\n",
      "Even number\n"
     ]
    }
   ],
   "source": [
    "\"\"\"\"Write a Python program to find whether a given number (accept from the user) is even or odd, print out an appropriate\n",
    "message to the user\"\"\"\n",
    "num = float(input(\"Enter a number:\"))\n",
    "mod=num%2\n",
    "if(mod>0):\n",
    "   print(\"odd Number\")\n",
    "else:\n",
    "   print(\"Even number\")\n"
   ]
  },
  {
   "cell_type": "code",
   "execution_count": 5,
   "metadata": {},
   "outputs": [
    {
     "name": "stdout",
     "output_type": "stream",
     "text": [
      "enetr alphabetsa\n",
      "a  is vowles\n"
     ]
    }
   ],
   "source": [
    "\"Write a Python program to test whether a passed letter is a vowel or not\"\n",
    "v=input(\"enetr alphabets\")\n",
    "if(v=='a' or v=='e' or v=='i' or v=='o' or v=='u' ):\n",
    "    print(v+\"  is vowles\")\n",
    "    \n",
    "else:\n",
    "    print(v+\"is not vowles\")"
   ]
  },
  {
   "cell_type": "code",
   "execution_count": 7,
   "metadata": {},
   "outputs": [
    {
     "name": "stdout",
     "output_type": "stream",
     "text": [
      "enterheight4\n",
      "enter base4\n",
      "8.0\n"
     ]
    }
   ],
   "source": [
    "height=int(input(\"enter height\"))\n",
    "base=int(input(\"enter base\"))\n",
    "formula=height*base/2\n",
    "print(formula)"
   ]
  },
  {
   "cell_type": "code",
   "execution_count": 9,
   "metadata": {},
   "outputs": [
    {
     "name": "stdout",
     "output_type": "stream",
     "text": [
      "please enter amount10000\n",
      "please enter interes in%0.1\n",
      "please enter year5\n",
      "10050\n"
     ]
    }
   ],
   "source": [
    "amt=int(input(\"please enter amount\" ))\n",
    "it=float(input(\"please enter interes in%\"));\n",
    "year=int(input(\"please enter year\"))\n",
    "formula=amt*((1+(0.01*it)) ** year)\n",
    "print(round(formula))"
   ]
  },
  {
   "cell_type": "code",
   "execution_count": 5,
   "metadata": {},
   "outputs": [
    {
     "name": "stdout",
     "output_type": "stream",
     "text": [
      "please enter coordinate of x14\n",
      "please enter coordinate of x22\n",
      "please enter coordinate of y14\n",
      "please enter coordinate of y12\n",
      "Distance between points (4  2) and (4 2) is2.8284271247461903\n"
     ]
    }
   ],
   "source": [
    "\"\"\"\"11. Euclidean distance\n",
    "Write a Python program to compute the distance between the points (x1, y1) and (x2, y2).\n",
    "\"\"\"\"\n",
    "import math\n",
    "X1=int(input(\"please enter coordinate of x1\"))\n",
    "X2=int(input(\"please enter coordinate of x2\"))\n",
    "y1=int(input(\"please enter coordinate of y1\"))\n",
    "y2=int(input(\"please enter coordinate of y1\"))\n",
    "distancex=X2-X1\n",
    "squrarex=distancex*distancex\n",
    "distancey=y2-y1\n",
    "squrarey=distancey*distancey\n",
    "bothdistance=squrarex+squrarey\n",
    "final=math.sqrt(bothdistance)\n",
    "print(\"Distance between points (\"+str(X1)+\"  \"+ str(X2)+ \") and (\" +str(y1)+\" \"+str(y2)+\") is \" + str(final) )\n",
    "\n",
    "\n"
   ]
  },
  {
   "cell_type": "code",
   "execution_count": 7,
   "metadata": {},
   "outputs": [
    {
     "name": "stdout",
     "output_type": "stream",
     "text": [
      "Input your height: \n",
      "Feet: 5\n",
      "Your height is : 307 cm.\n"
     ]
    }
   ],
   "source": [
    "\"\"\"12. Feet to Centimeter Converter\n",
    "Write a Python program to convert height in feet to centimetres.\n",
    "\"\"\"\"\n",
    "print(\"Input your height: \")\n",
    "h_ft = int(input(\"Feet: \"))\n",
    "h_inch = int(input(\"Inches: \"))\n",
    "h_inch += h_ft * 12\n",
    "h_cm = round(h_inch * 2.54, 1)\n",
    "\n",
    "print(\"Your height is : %d cm.\" % h_cm)"
   ]
  },
  {
   "cell_type": "code",
   "execution_count": 12,
   "metadata": {},
   "outputs": [
    {
     "name": "stdout",
     "output_type": "stream",
     "text": [
      "enter your height in cm180\n",
      "enter your height in weight in kg75\n",
      "your body BMI is  23.148148148148145\n"
     ]
    }
   ],
   "source": [
    "\"\"\"\"13. BMI Calculator\n",
    "Write a Python program to calculate body mass index\"\"\"\n",
    "height=int(input(\"enter your height in cm\"))\n",
    "weight=int(input(\"enter your height in weight in kg\"))\n",
    "heightm=height/100\n",
    "fheight=heightm*heightm\n",
    "formula=weight/fheight\n",
    "print(\"your body BMI is  \"+str(formula))\n",
    "\n",
    "\n"
   ]
  },
  {
   "cell_type": "code",
   "execution_count": 14,
   "metadata": {},
   "outputs": [
    {
     "name": "stdout",
     "output_type": "stream",
     "text": [
      "Input a number: 5\n",
      "Sum of n Positive integers till5is 15.0\n"
     ]
    }
   ],
   "source": [
    "\"\"\"14. Sum of n Positive Integers\n",
    "Write a python program to sum of the first n positive integers\"\"\"\n",
    "number = int(input(\"Input a number: \"))\n",
    "sum_num = (number * (number + 1)) / 2\n",
    "print(\"Sum of n Positive integers till \" +str(number)+\" is \"+str(sum_num))\n",
    "\n"
   ]
  },
  {
   "cell_type": "code",
   "execution_count": 15,
   "metadata": {},
   "outputs": [
    {
     "name": "stdout",
     "output_type": "stream",
     "text": [
      "Input a four digit numbers: 15\n",
      "The sum of digits in the number is 6\n"
     ]
    }
   ],
   "source": [
    "\"\"\"\"15. Digits Sum of a Number\n",
    "Write a Python program to calculate the sum of the digits in an integer\"\"\"\"\n",
    "num = int(input(\"Input a four digit numbers: \"))\n",
    "x  = num //1000\n",
    "x1 = (num - x*1000)//100\n",
    "x2 = (num - x*1000 - x1*100)//10\n",
    "x3 = num - x*1000 - x1*100 - x2*10\n",
    "print(\"The sum of digits in the number is\", x+x1+x2+x3)"
   ]
  },
  {
   "cell_type": "code",
   "execution_count": 16,
   "metadata": {},
   "outputs": [
    {
     "name": "stdout",
     "output_type": "stream",
     "text": [
      "Enter any decimal number: 25\n",
      "11001"
     ]
    }
   ],
   "source": [
    "\"\"\"\"16. Decimal to Binary Converter\n",
    "Write a Python program to convert an decimal integer to binary\"\"\"\"\n",
    "def decimalToBinary(num):\n",
    "    if num > 1:\n",
    "        decimalToBinary(num // 2)\n",
    "    print(num % 2, end='')\n",
    "number = int(input(\"Enter any decimal number: \"))\n",
    "decimalToBinary(number)"
   ]
  },
  {
   "cell_type": "code",
   "execution_count": 24,
   "metadata": {},
   "outputs": [
    {
     "name": "stdout",
     "output_type": "stream",
     "text": [
      "Input a binary number: 10101\n",
      "The decimal value of the number is 21\n"
     ]
    }
   ],
   "source": [
    "\"\"\"17. Binary to Decimal Converter\n",
    "Write a program to convert binary number to Decimal number\"\"\"\n",
    "b_num = list(input(\"Input a binary number: \"))\n",
    "value = 0\n",
    "for i in range(len(b_num)):\n",
    "    digit = b_num.pop()\n",
    "    if digit == '1':\n",
    "        value = value + pow(2, i)\n",
    "print(\"The decimal value of the number is\", value)"
   ]
  },
  {
   "cell_type": "code",
   "execution_count": null,
   "metadata": {},
   "outputs": [],
   "source": []
  }
 ],
 "metadata": {
  "kernelspec": {
   "display_name": "Python 3",
   "language": "python",
   "name": "python3"
  },
  "language_info": {
   "codemirror_mode": {
    "name": "ipython",
    "version": 3
   },
   "file_extension": ".py",
   "mimetype": "text/x-python",
   "name": "python",
   "nbconvert_exporter": "python",
   "pygments_lexer": "ipython3",
   "version": "3.7.3"
  }
 },
 "nbformat": 4,
 "nbformat_minor": 2
}
